{
 "cells": [
  {
   "cell_type": "code",
   "execution_count": 1,
   "metadata": {},
   "outputs": [
    {
     "data": {
      "text/html": [
       "\n",
       "        <div>\n",
       "            <p><b>SparkContext</b></p>\n",
       "\n",
       "            <p><a href=\"http://ip-172-31-89-178.ec2.internal:4040\">Spark UI</a></p>\n",
       "\n",
       "            <dl>\n",
       "              <dt>Version</dt>\n",
       "                <dd><code>v2.4.4</code></dd>\n",
       "              <dt>Master</dt>\n",
       "                <dd><code>yarn</code></dd>\n",
       "              <dt>AppName</dt>\n",
       "                <dd><code>pyspark-shell</code></dd>\n",
       "            </dl>\n",
       "        </div>\n",
       "        "
      ],
      "text/plain": [
       "<SparkContext master=yarn appName=pyspark-shell>"
      ]
     },
     "execution_count": 1,
     "metadata": {},
     "output_type": "execute_result"
    }
   ],
   "source": [
    "import findspark\n",
    "findspark.init()\n",
    "from pyspark import SparkContext\n",
    "sc = SparkContext()\n",
    "sc"
   ]
  },
  {
   "cell_type": "code",
   "execution_count": 2,
   "metadata": {},
   "outputs": [
    {
     "data": {
      "text/html": [
       "\n",
       "            <div>\n",
       "                <p><b>SparkSession - in-memory</b></p>\n",
       "                \n",
       "        <div>\n",
       "            <p><b>SparkContext</b></p>\n",
       "\n",
       "            <p><a href=\"http://ip-172-31-89-178.ec2.internal:4040\">Spark UI</a></p>\n",
       "\n",
       "            <dl>\n",
       "              <dt>Version</dt>\n",
       "                <dd><code>v2.4.4</code></dd>\n",
       "              <dt>Master</dt>\n",
       "                <dd><code>yarn</code></dd>\n",
       "              <dt>AppName</dt>\n",
       "                <dd><code>pyspark-shell</code></dd>\n",
       "            </dl>\n",
       "        </div>\n",
       "        \n",
       "            </div>\n",
       "        "
      ],
      "text/plain": [
       "<pyspark.sql.session.SparkSession at 0x7f4210456cd0>"
      ]
     },
     "execution_count": 2,
     "metadata": {},
     "output_type": "execute_result"
    }
   ],
   "source": [
    "import findspark\n",
    "findspark.init()\n",
    "from pyspark.sql import SparkSession\n",
    "spark = SparkSession.builder.appName(\"project\").getOrCreate()\n",
    "spark"
   ]
  },
  {
   "cell_type": "code",
   "execution_count": 3,
   "metadata": {},
   "outputs": [],
   "source": [
    "json_lzo = sc.newAPIHadoopFile(\"s3://bigdatateaching/reddit/lzo/RC_*.lzo\", \"com.hadoop.mapreduce.LzoTextInputFormat\",\n",
    "                               \"org.apache.hadoop.io.LongWritable\", \"org.apache.hadoop.io.Text\")"
   ]
  },
  {
   "cell_type": "code",
   "execution_count": 4,
   "metadata": {
    "collapsed": true,
    "jupyter": {
     "outputs_hidden": true
    }
   },
   "outputs": [
    {
     "data": {
      "text/plain": [
       "StructType(List(StructField(archived,BooleanType,true),StructField(author,StringType,true),StructField(author_cakeday,BooleanType,true),StructField(author_created_utc,LongType,true),StructField(author_flair_background_color,StringType,true),StructField(author_flair_css_class,StringType,true),StructField(author_flair_richtext,ArrayType(StructType(List(StructField(a,StringType,true),StructField(e,StringType,true),StructField(t,StringType,true),StructField(u,StringType,true))),true),true),StructField(author_flair_template_id,StringType,true),StructField(author_flair_text,StringType,true),StructField(author_flair_text_color,StringType,true),StructField(author_flair_type,StringType,true),StructField(author_fullname,StringType,true),StructField(author_patreon_flair,BooleanType,true),StructField(body,StringType,true),StructField(can_gild,BooleanType,true),StructField(can_mod_post,BooleanType,true),StructField(collapsed,BooleanType,true),StructField(collapsed_reason,StringType,true),StructField(controversiality,LongType,true),StructField(created_utc,LongType,true),StructField(distinguished,StringType,true),StructField(edited,StringType,true),StructField(gilded,LongType,true),StructField(gildings,StructType(List(StructField(gid_1,LongType,true),StructField(gid_2,LongType,true),StructField(gid_3,LongType,true))),true),StructField(id,StringType,true),StructField(is_submitter,BooleanType,true),StructField(link_id,StringType,true),StructField(no_follow,BooleanType,true),StructField(parent_id,StringType,true),StructField(permalink,StringType,true),StructField(removal_reason,StringType,true),StructField(retrieved_on,LongType,true),StructField(score,LongType,true),StructField(send_replies,BooleanType,true),StructField(stickied,BooleanType,true),StructField(subreddit,StringType,true),StructField(subreddit_id,StringType,true),StructField(subreddit_name_prefixed,StringType,true),StructField(subreddit_type,StringType,true)))"
      ]
     },
     "execution_count": 4,
     "metadata": {},
     "output_type": "execute_result"
    }
   ],
   "source": [
    "data = spark.read.json(\"s3://bigdatateaching/reddit/sample-data/1m-line-sample.json\")\n",
    "schema = data.schema.json()\n",
    "from pyspark.sql.types import *\n",
    "import json\n",
    "new_schema = StructType.fromJson(json.loads(schema))\n",
    "new_schema"
   ]
  },
  {
   "cell_type": "code",
   "execution_count": 5,
   "metadata": {},
   "outputs": [],
   "source": [
    "from pyspark.sql import Row\n",
    "import pyspark.sql.functions as F\n",
    "\n",
    "data = json_lzo.map(lambda x:Row(x[1])).toDF(['raw']).select(F.from_json('raw',new_schema).alias('json')).select('json.*')"
   ]
  },
  {
   "cell_type": "code",
   "execution_count": 6,
   "metadata": {},
   "outputs": [
    {
     "data": {
      "text/plain": [
       "476259744"
      ]
     },
     "execution_count": 6,
     "metadata": {},
     "output_type": "execute_result"
    }
   ],
   "source": [
    "data.count()"
   ]
  },
  {
   "cell_type": "markdown",
   "metadata": {},
   "source": [
    "Randomly sample 10 million rows from the dataset"
   ]
  },
  {
   "cell_type": "code",
   "execution_count": 8,
   "metadata": {},
   "outputs": [],
   "source": [
    "fraction = 10000000 / 470000000\n",
    "data_1m = data.sample(False, fraction, 100)\n",
    "data_1m.write.parquet(\"s3://secondhandbigdata/project/data_1m\")"
   ]
  },
  {
   "cell_type": "markdown",
   "metadata": {},
   "source": [
    "Load sampled dataset (data_1m)"
   ]
  },
  {
   "cell_type": "code",
   "execution_count": 9,
   "metadata": {},
   "outputs": [],
   "source": [
    "data = spark.read.format('parquet').option('header', 'true').option('inferSchema', 'true').load('s3://secondhandbigdata/project/data_1m')"
   ]
  },
  {
   "cell_type": "code",
   "execution_count": 10,
   "metadata": {},
   "outputs": [
    {
     "name": "stdout",
     "output_type": "stream",
     "text": [
      "+-----------------+-----------+--------------------+--------+------------------+--------------------+--------+------------+---------+----------------+------+------+------------+---------+------------+-----+------------+--------+--------------+\n",
      "|           author|created_utc|           subreddit|archived|author_created_utc|                body|can_gild|can_mod_post|collapsed|controversiality|edited|gilded|is_submitter|no_follow|retrieved_on|score|send_replies|stickied|subreddit_type|\n",
      "+-----------------+-----------+--------------------+--------+------------------+--------------------+--------+------------+---------+----------------+------+------+------------+---------+------------+-----+------------+--------+--------------+\n",
      "|        loop2loop| 1542977653|           AskReddit|       0|        1500159331|American exceptio...|       1|           0|        0|               0|     0|     0|           0|        1|  1545939501|  530|           1|       0|        public|\n",
      "|        metalman7| 1542977653|               lepin|       0|        1292086961|\"Will be availabl...|       1|           0|        0|               0|     0|     0|           0|        1|  1545939501|    2|           1|       0|        public|\n",
      "|    touzainanboku| 1542977654|PewdiepieSubmissions|       0|        1424428802|For real. I can't...|       1|           0|        0|               0|     0|     0|           0|        0|  1545939502|    5|           1|       0|        public|\n",
      "|      Lothcaramon| 1542977657|            magicTCG|       0|        1462801035|I hope so, I had ...|       1|           0|        0|               0|     0|     0|           1|        1|  1545939503|    2|           1|       0|        public|\n",
      "|   god_dammit_tim| 1542977659|                pics|       0|        1535654264|               okay?|       1|           0|        0|               0|     0|     0|           0|        1|  1545939503|    3|           1|       0|        public|\n",
      "|         AnnaLogg| 1542977660|             Metroid|       0|        1465830895|This has been rep...|       1|           0|        0|               0|     0|     0|           0|        1|  1545939503|    5|           1|       0|        public|\n",
      "|   adolphusjensen| 1542977660|         thesopranos|       0|        1520284381|Phil had a right ...|       1|           0|        0|               0|     0|     0|           0|        0|  1545939503|    7|           1|       0|        public|\n",
      "|          nViNova| 1542977660|        softwaregore|       0|        1523749619|       r/grammarnazi|       1|           0|        0|               0|     0|     0|           0|        1|  1545939504|   -2|           1|       0|        public|\n",
      "|Family-Duty-Hodor| 1542977661|            bigquery|       0|        1378404095|That's great to h...|       1|           0|        0|               0|     0|     0|           0|        1|  1545939504|    2|           1|       0|        public|\n",
      "|       Boomsledge| 1542977662|              Vaping|       0|        1400165733|If ya really want...|       1|           0|        0|               0|     0|     0|           0|        1|  1545939504|    2|           1|       0|        public|\n",
      "+-----------------+-----------+--------------------+--------+------------------+--------------------+--------+------------+---------+----------------+------+------+------------+---------+------------+-----+------------+--------+--------------+\n",
      "only showing top 10 rows\n",
      "\n",
      "Time taken to execute above cell: 3.168292seconds\n"
     ]
    }
   ],
   "source": [
    "import datetime\n",
    "timestart = datetime.datetime.now()\n",
    "\n",
    "#get rid of 'deleted users', since they do not have value anymore\n",
    "data = data.where(data['author'] != '[deleted]')\n",
    "\n",
    "#Assigning Unique value ('U') to Nan values   \n",
    "data = data.na.fill('U')\n",
    "\n",
    "#Convert boolean type columns into numerical\n",
    "data = data.withColumn('archived', F.when(F.col('archived') == False, 0).otherwise(1))\n",
    "data = data.withColumn('can_gild', F.when(F.col('can_gild') == False, 0).otherwise(1))\n",
    "data = data.withColumn('can_mod_post', F.when(F.col('can_mod_post') == False, 0).otherwise(1))\n",
    "data = data.withColumn('collapsed', F.when(F.col('collapsed') == False, 0).otherwise(1))\n",
    "data = data.withColumn('is_submitter', F.when(F.col('is_submitter') == False, 0).otherwise(1))\n",
    "data = data.withColumn('no_follow', F.when(F.col('no_follow') == False, 0).otherwise(1))\n",
    "data = data.withColumn('send_replies', F.when(F.col('send_replies') == False, 0).otherwise(1))\n",
    "data = data.withColumn('stickied', F.when(F.col('stickied') == False, 0).otherwise(1))\n",
    "data = data.withColumn('edited', F.when(F.col('edited') == False, 0).otherwise(1))\n",
    "\n",
    "#select only the features which would be used\n",
    "selectCol = ['author', 'created_utc', 'subreddit', 'archived', 'author_created_utc', 'body', 'can_gild', 'can_mod_post',\n",
    "            'collapsed', 'controversiality', 'edited', 'gilded', 'is_submitter', 'no_follow', 'retrieved_on', \n",
    "            'score', 'send_replies', 'stickied', 'subreddit_type']\n",
    "data = data.select(selectCol)\n",
    "\n",
    "data.show(10)\n",
    "\n",
    "timeend = datetime.datetime.now()\n",
    "timedelta = (timeend-timestart).total_seconds() \n",
    "print(\"Time taken to execute above cell: \" + str(timedelta) + \"seconds\")"
   ]
  },
  {
   "cell_type": "markdown",
   "metadata": {},
   "source": [
    "Store cleaned data"
   ]
  },
  {
   "cell_type": "code",
   "execution_count": 11,
   "metadata": {},
   "outputs": [
    {
     "name": "stdout",
     "output_type": "stream",
     "text": [
      "Time taken to execute above cell: 71.943647seconds\n"
     ]
    }
   ],
   "source": [
    "import datetime\n",
    "timestart = datetime.datetime.now()\n",
    "\n",
    "data.write.parquet(\"s3://secondhandbigdata/project/data_1m_cleaned\")\n",
    "\n",
    "timeend = datetime.datetime.now()\n",
    "timedelta = (timeend-timestart).total_seconds() \n",
    "print(\"Time taken to execute above cell: \" + str(timedelta) + \"seconds\")"
   ]
  },
  {
   "cell_type": "markdown",
   "metadata": {},
   "source": [
    "Load cleaned data (data_1m_cleaned)"
   ]
  },
  {
   "cell_type": "code",
   "execution_count": 12,
   "metadata": {},
   "outputs": [],
   "source": [
    "data_1 = spark.read.format('parquet').option('header', 'true').option('inferSchema', 'true').load('s3://secondhandbigdata/project/data_1m_cleaned')"
   ]
  },
  {
   "cell_type": "markdown",
   "metadata": {},
   "source": [
    "GROUP, SELECT, JOIN, nitty gritty\n",
    "Step 1"
   ]
  },
  {
   "cell_type": "code",
   "execution_count": 13,
   "metadata": {},
   "outputs": [
    {
     "name": "stdout",
     "output_type": "stream",
     "text": [
      "+--------------------+-----------+-----------------+\n",
      "|              author|created_utc|        subreddit|\n",
      "+--------------------+-----------+-----------------+\n",
      "|---TheFierceDeity---| 1541660669|         Warframe|\n",
      "| ---midnight_rain---| 1547142496|          Calgary|\n",
      "|            --Anna--| 1545055615|        AskReddit|\n",
      "|          --cheese--| 1548448216|     circlebroke2|\n",
      "|           --chino--| 1544232670|           GCXRep|\n",
      "|                -0_0| 1540798839|           gaming|\n",
      "|               -100K| 1544229608|    TheMonkeysPaw|\n",
      "|               -4-a-| 1544347750|      Cringetopia|\n",
      "|               -500-| 1540582076|      advertising|\n",
      "|                -86-| 1548566891|NoStupidQuestions|\n",
      "+--------------------+-----------+-----------------+\n",
      "only showing top 10 rows\n",
      "\n",
      "Time taken to execute above cell: 25.322017seconds\n"
     ]
    }
   ],
   "source": [
    "import datetime\n",
    "timestart = datetime.datetime.now()\n",
    "\n",
    "data_1.createOrReplaceTempView(\"data_1\")\n",
    "#only pick the first subreddit the author posted in if the author posted multiple at the same time\n",
    "data_2 = spark.sql('''\n",
    "                    SELECT author, created_utc, FIRST(subreddit) subreddit\n",
    "                    FROM data_1\n",
    "                    GROUP BY author, created_utc\n",
    "                ''').cache()\n",
    "\n",
    "data_2.show(10)\n",
    "\n",
    "data_2.write.parquet(\"s3://secondhandbigdata/project/data_1m_step1\")\n",
    "\n",
    "timeend = datetime.datetime.now()\n",
    "timedelta = (timeend-timestart).total_seconds() \n",
    "print(\"Time taken to execute above cell: \" + str(timedelta) + \"seconds\")"
   ]
  },
  {
   "cell_type": "markdown",
   "metadata": {},
   "source": [
    "Load data_2 (data_1m_step2)"
   ]
  },
  {
   "cell_type": "code",
   "execution_count": 14,
   "metadata": {},
   "outputs": [],
   "source": [
    "data_2 = spark.read.format('parquet').option('header', 'true').option('inferSchema', 'true').load('s3://secondhandbigdata/project/data_1m_step1')"
   ]
  },
  {
   "cell_type": "markdown",
   "metadata": {},
   "source": [
    "Step 2"
   ]
  },
  {
   "cell_type": "code",
   "execution_count": 15,
   "metadata": {},
   "outputs": [
    {
     "name": "stdout",
     "output_type": "stream",
     "text": [
      "+-----------+-----------------+--------------+\n",
      "|     author|current_post_time|next_post_time|\n",
      "+-----------+-----------------+--------------+\n",
      "|    ---NoTy|       1544778710|    1546371574|\n",
      "|    ---NoTy|       1546411575|    1546601980|\n",
      "|    ---NoTy|       1546601980|    1547627780|\n",
      "|    ---NoTy|       1548095346|    1548111234|\n",
      "|    ---NoTy|       1547627780|    1548095346|\n",
      "|    ---NoTy|       1546404679|    1546411575|\n",
      "|    ---NoTy|       1546371574|    1546404679|\n",
      "|  -Coltaine|       1540872708|    1540925144|\n",
      "|-Degaussed-|       1547142437|    1547695395|\n",
      "|-Degaussed-|       1538673815|    1539102694|\n",
      "+-----------+-----------------+--------------+\n",
      "only showing top 10 rows\n",
      "\n",
      "Time taken to execute above cell: 919.505607seconds\n"
     ]
    }
   ],
   "source": [
    "import datetime\n",
    "timestart = datetime.datetime.now()\n",
    "\n",
    "data_2.createOrReplaceTempView(\"data_2\")\n",
    "data_3 = spark.sql('''\n",
    "                    SELECT d1.author author, d1.created_utc current_post_time, \n",
    "                    MIN(d2.created_utc) next_post_time\n",
    "                    FROM data_2 d1\n",
    "                        LEFT JOIN data_2 d2\n",
    "                        ON d1.author = d2.author\n",
    "                    WHERE d1.created_utc < d2.created_utc\n",
    "                    GROUP BY d1.author, d1.created_utc\n",
    "                ''')\n",
    "\n",
    "data_3.show(10)\n",
    "\n",
    "data_3.write.parquet(\"s3://secondhandbigdata/project/data_1m_step2\")\n",
    "\n",
    "timeend = datetime.datetime.now()\n",
    "timedelta = (timeend-timestart).total_seconds() \n",
    "print(\"Time taken to execute above cell: \" + str(timedelta) + \"seconds\")"
   ]
  },
  {
   "cell_type": "markdown",
   "metadata": {},
   "source": [
    "Load data_3 (data_1m_step3)"
   ]
  },
  {
   "cell_type": "code",
   "execution_count": 16,
   "metadata": {},
   "outputs": [],
   "source": [
    "data_3 = spark.read.format('parquet').option('header', 'true').option('inferSchema', 'true').load('s3://secondhandbigdata/project/data_1m_step2')"
   ]
  },
  {
   "cell_type": "markdown",
   "metadata": {},
   "source": [
    "Step 3"
   ]
  },
  {
   "cell_type": "code",
   "execution_count": 17,
   "metadata": {},
   "outputs": [
    {
     "name": "stdout",
     "output_type": "stream",
     "text": [
      "+--------------------+-----------------+--------------+-----------------+--------------+--------+------------------+--------------------+--------+------------+---------+----------------+------+------+------------+---------+------------+-----+------------+--------+--------------+\n",
      "|              author|current_post_time|next_post_time|current_subreddit|next_subreddit|archived|author_created_utc|                body|can_gild|can_mod_post|collapsed|controversiality|edited|gilded|is_submitter|no_follow|retrieved_on|score|send_replies|stickied|subreddit_type|\n",
      "+--------------------+-----------------+--------------+-----------------+--------------+--------+------------------+--------------------+--------+------------+---------+----------------+------+------+------------+---------+------------+-----+------------+--------+--------------+\n",
      "|---TheFierceDeity---|       1541386955|    1541660669|              aww|      Warframe|       0|        1427890367|marsupial ~~rat~~...|       1|           0|        0|               0|     0|     0|           0|        1|  1545001814|    1|           1|       0|        public|\n",
      "|---TheFierceDeity---|       1541386955|    1541660669|              aww|      Warframe|       0|        1427890367|marsupial ~~rat~~...|       1|           0|        0|               0|     0|     0|           0|        1|  1545001814|    1|           1|       0|        public|\n",
      "|---TheFierceDeity---|       1541386955|    1541660669|              aww|      Warframe|       0|        1427890367|marsupial ~~rat~~...|       1|           0|        0|               0|     0|     0|           0|        1|  1545001814|    1|           1|       0|        public|\n",
      "|---TheFierceDeity---|       1541386955|    1541660669|              aww|      Warframe|       0|        1427890367|marsupial ~~rat~~...|       1|           0|        0|               0|     0|     0|           0|        1|  1545001814|    1|           1|       0|        public|\n",
      "| ---midnight_rain---|       1546967271|    1547142496|          Calgary|       Calgary|       1|        1516123155|Finland and Norwa...|       1|           0|        0|               0|     0|     0|           0|        1|  1551070757|    1|           1|       0|        public|\n",
      "| ---midnight_rain---|       1546967271|    1547142496|          Calgary|       Calgary|       1|        1516123155|Finland and Norwa...|       1|           0|        0|               0|     0|     0|           0|        1|  1551070757|    1|           1|       0|        public|\n",
      "| ---midnight_rain---|       1546967271|    1547142496|          Calgary|       Calgary|       1|        1516123155|Finland and Norwa...|       1|           0|        0|               0|     0|     0|           0|        1|  1551070757|    1|           1|       0|        public|\n",
      "| ---midnight_rain---|       1546967271|    1547142496|          Calgary|       Calgary|       1|        1516123155|Finland and Norwa...|       1|           0|        0|               0|     0|     0|           0|        1|  1551070757|    1|           1|       0|        public|\n",
      "|          --cheese--|       1548317232|    1548448216|mildlyinteresting|  circlebroke2|       1|        1421667843|You're allowed to...|       1|           0|        0|               0|     0|     0|           0|        0|  1551945721|   13|           1|       0|        public|\n",
      "|          --cheese--|       1548317232|    1548448216|mildlyinteresting|  circlebroke2|       1|        1421667843|You're allowed to...|       1|           0|        0|               0|     0|     0|           0|        0|  1551945721|   13|           1|       0|        public|\n",
      "+--------------------+-----------------+--------------+-----------------+--------------+--------+------------------+--------------------+--------+------------+---------+----------------+------+------+------------+---------+------------+-----+------------+--------+--------------+\n",
      "only showing top 10 rows\n",
      "\n",
      "Time taken to execute above cell: 88.182523seconds\n"
     ]
    }
   ],
   "source": [
    "import datetime\n",
    "timestart = datetime.datetime.now()\n",
    "\n",
    "data_3.createOrReplaceTempView(\"data_3\")\n",
    "data_4 = spark.sql('''\n",
    "                    SELECT d1.author author, d1.current_post_time current_post_time, d1.next_post_time next_post_time,\n",
    "                    d2.subreddit current_subreddit, d3.subreddit next_subreddit,\n",
    "                        d2.archived archived, d2.author_created_utc author_created_utc, \n",
    "                        d2.body body, d2.can_gild can_gild, d2.can_mod_post can_mod_post, \n",
    "                        d2.collapsed collapsed, d2.controversiality controversiality, \n",
    "                        d2.edited edited, d2.gilded gilded,\n",
    "                        d2.is_submitter is_submitter, d2.no_follow no_follow, \n",
    "                        d2.retrieved_on retrieved_on, d2.score score, d2.send_replies send_replies, \n",
    "                        d2.stickied stickied, d2.subreddit_type subreddit_type\n",
    "                    FROM data_3 d1\n",
    "                        LEFT JOIN data_1 d2\n",
    "                        ON d1.author = d2.author AND d1.current_post_time = d2.created_utc\n",
    "                        LEFT JOIN data_1 d3\n",
    "                        ON d1.author = d3.author AND d1.next_post_time = d3.created_utc\n",
    "                ''')\n",
    "\n",
    "data_4.show(10)\n",
    "\n",
    "data_4.write.parquet(\"s3://secondhandbigdata/project/data_1m_step3\")\n",
    "\n",
    "timeend = datetime.datetime.now()\n",
    "timedelta = (timeend-timestart).total_seconds() \n",
    "print(\"Time taken to execute above cell: \" + str(timedelta) + \"seconds\")"
   ]
  },
  {
   "cell_type": "markdown",
   "metadata": {},
   "source": [
    "Load data_4 (data_1m_step3)"
   ]
  },
  {
   "cell_type": "code",
   "execution_count": 3,
   "metadata": {},
   "outputs": [],
   "source": [
    "data_df = spark.read.format('parquet').option('header', 'true').option('inferSchema', 'true').load('s3://secondhandbigdata/project/data_1m_step3')"
   ]
  },
  {
   "cell_type": "code",
   "execution_count": 4,
   "metadata": {},
   "outputs": [],
   "source": [
    "#drop na\n",
    "data_df = data_df.na.drop()"
   ]
  },
  {
   "cell_type": "code",
   "execution_count": 6,
   "metadata": {
    "collapsed": true,
    "jupyter": {
     "outputs_hidden": true
    }
   },
   "outputs": [
    {
     "name": "stdout",
     "output_type": "stream",
     "text": [
      "+-------+--------------------+--------------------+-------------------+--------------------+--------------------+-------------------+--------------------+--------+-------------------+------------+--------------------+--------------------+--------------------+--------------------+-------------------+------------------+--------------------+------------------+------------------+--------------------+--------------+\n",
      "|summary|              author|   current_post_time|     next_post_time|   current_subreddit|      next_subreddit|           archived|  author_created_utc|    body|           can_gild|can_mod_post|           collapsed|    controversiality|              edited|              gilded|       is_submitter|         no_follow|        retrieved_on|             score|      send_replies|            stickied|subreddit_type|\n",
      "+-------+--------------------+--------------------+-------------------+--------------------+--------------------+-------------------+--------------------+--------+-------------------+------------+--------------------+--------------------+--------------------+--------------------+-------------------+------------------+--------------------+------------------+------------------+--------------------+--------------+\n",
      "|  count|            26045045|            26045045|           26045045|            26045045|            26045045|           26045045|            26045045|26045045|           26045045|    26045045|            26045045|            26045045|            26045045|            26045045|           26045045|          26045045|            26045045|          26045045|          26045045|            26045045|      26045045|\n",
      "|   mean|            Infinity|1.5433229478548563E9|1.544250767755448E9|5.511463795201022...|7.004640511346336E17|0.20628138672826252|1.4519599767200089E9|Infinity| 0.9967532020006109|         0.0|0.015054955750700373|0.023430445215203124|0.024485501944803704|2.387786237267011...|0.08307115614505561|0.7472080389955172|1.5460125407630231E9|10.013263136999763|0.9803650176069959|0.008260765147458951|          null|\n",
      "| stddev|                 NaN|  2944500.4179934952|  2930687.510525524|8.233434188108959...|9.276174816328767E18| 0.4046348755410489| 7.895640436762214E7|     NaN|0.05688810443666084|         0.0| 0.12177152634083963|  0.1512661903095158| 0.15455084294955124| 0.01699830299060699| 0.2759897499660837|0.4346126927602971|  3686713.4326731474|138.79139539811965|0.1387423893354642| 0.09051256940994254|          null|\n",
      "|    min|     -----------_---|          1538352002|         1538352149|                 007|                 007|                  0|          1122523200|        |                  0|           0|                   0|                   0|                   0|                   0|                  0|                 0|          1539714092|             -4112|                 0|                   0|        public|\n",
      "|    max|zzzzzzzzzzzzzzzzspaf|          1548979171|         1548979199|                 zzt|                 zzt|                  1|          1548960316|    󠂪󠂪|                  1|           0|                   1|                   1|                   1|                   5|                  1|                 1|          1552556665|             52816|                 1|                   1|          user|\n",
      "+-------+--------------------+--------------------+-------------------+--------------------+--------------------+-------------------+--------------------+--------+-------------------+------------+--------------------+--------------------+--------------------+--------------------+-------------------+------------------+--------------------+------------------+------------------+--------------------+--------------+\n",
      "\n"
     ]
    }
   ],
   "source": [
    "data_df.describe().show()"
   ]
  },
  {
   "cell_type": "markdown",
   "metadata": {},
   "source": [
    "Use pandas to make graphs"
   ]
  },
  {
   "cell_type": "code",
   "execution_count": 6,
   "metadata": {},
   "outputs": [],
   "source": [
    "data_pd_df = data_df.limit(100000).toPandas()"
   ]
  },
  {
   "cell_type": "code",
   "execution_count": 7,
   "metadata": {},
   "outputs": [
    {
     "data": {
      "text/plain": [
       "<matplotlib.axes._subplots.AxesSubplot at 0x7f866f682210>"
      ]
     },
     "execution_count": 7,
     "metadata": {},
     "output_type": "execute_result"
    },
    {
     "data": {
      "image/png": "[encoded data removed]",
      "text/plain": [
       "<Figure size 432x288 with 2 Axes>"
      ]
     },
     "metadata": {
      "needs_background": "light"
     },
     "output_type": "display_data"
    }
   ],
   "source": [
    "import seaborn as sns\n",
    "%matplotlib inline\n",
    "\n",
    "corr = data_pd_df.corr()\n",
    "\n",
    "sns.heatmap(corr, xticklabels=corr.columns, yticklabels=corr.columns)"
   ]
  },
  {
   "cell_type": "code",
   "execution_count": 20,
   "metadata": {},
   "outputs": [
    {
     "data": {
      "text/plain": [
       "<matplotlib.axes._subplots.AxesSubplot at 0x7f8655af8b90>"
      ]
     },
     "execution_count": 20,
     "metadata": {},
     "output_type": "execute_result"
    },
    {
     "data": {
      "image/png": "[encoded data removed]",
      "text/plain": [
       "<Figure size 432x288 with 1 Axes>"
      ]
     },
     "metadata": {
      "needs_background": "light"
     },
     "output_type": "display_data"
    }
   ],
   "source": [
    "sns.countplot(x=\"next_subreddit\", data=data_pd_df, order=data_pd_df.next_subreddit.value_counts().iloc[:7].index)"
   ]
  },
  {
   "cell_type": "code",
   "execution_count": 14,
   "metadata": {},
   "outputs": [],
   "source": [
    "def predictNextPostTime(columnName):\n",
    "    from pyspark.ml.feature import VectorAssembler\n",
    "    prCol = ['current_post_time', 'archived', 'retrieved_on']\n",
    "\n",
    "    vectorAssembler = VectorAssembler(inputCols = prCol, outputCol = 'features')\n",
    "    vdata_df = vectorAssembler.transform(data_df)\n",
    "    \n",
    "    train_df, test_df = vdata_df.randomSplit([0.7, 0.3], 100)\n",
    "    print('-----------------------------------------------')\n",
    "    print(\"Number of training records: \", train_df.count())\n",
    "    print(\"Number of testing records : \", test_df.count())\n",
    "    \n",
    "    from pyspark.ml.regression import LinearRegression\n",
    "    lr = LinearRegression(featuresCol = 'features', labelCol=columnName, maxIter=40, regParam=0.6, elasticNetParam=0.6)\n",
    "    lr_model = lr.fit(train_df)\n",
    "    #print(\"Coefficients: \" + str(lr_model.coefficients))\n",
    "    #print(\"Intercept: \" + str(lr_model.intercept))\n",
    "    \n",
    "    trainingSummary = lr_model.summary\n",
    "    print('-----------------------------------------------')\n",
    "    print(\"RMSE: %f\" % trainingSummary.rootMeanSquaredError)\n",
    "    print(\"r2: %f\" % trainingSummary.r2)\n",
    "    \n",
    "    lr_predictions = lr_model.transform(test_df)\n",
    "    from pyspark.ml.evaluation import RegressionEvaluator\n",
    "    lr_evaluator = RegressionEvaluator(predictionCol=\"prediction\", labelCol=columnName, metricName=\"r2\")\n",
    "    print('-----------------------------------------------')\n",
    "    print(\"R Squared (R2) on test data = %g\" % lr_evaluator.evaluate(lr_predictions))\n",
    "    \n",
    "    test_result = lr_model.evaluate(test_df)\n",
    "    print(\"Root Mean Squared Error (RMSE) on test data = %g\" % test_result.rootMeanSquaredError)\n",
    "    \n",
    "    #print(\"numIterations: %d\" % trainingSummary.totalIterations)\n",
    "    #print(\"objectiveHistory: %s\" % str(trainingSummary.objectiveHistory))\n",
    "    #trainingSummary.residuals.show()\n",
    "    \n",
    "    print('-----------------------------------------------')\n",
    "    predictions = lr_model.transform(test_df)\n",
    "    predictions.select(\"prediction\",columnName,\"features\").show()"
   ]
  },
  {
   "cell_type": "code",
   "execution_count": 15,
   "metadata": {},
   "outputs": [
    {
     "name": "stdout",
     "output_type": "stream",
     "text": [
      "-----------------------------------------------\n",
      "Number of training records:  18232275\n",
      "Number of testing records :  7812770\n",
      "-----------------------------------------------\n",
      "RMSE: 1369265.547406\n",
      "r2: 0.781717\n",
      "-----------------------------------------------\n",
      "R Squared (R2) on test data = 0.781991\n",
      "Root Mean Squared Error (RMSE) on test data = 1.36832e+06\n",
      "-----------------------------------------------\n",
      "+--------------------+--------------+--------------------+\n",
      "|          prediction|next_post_time|            features|\n",
      "+--------------------+--------------+--------------------+\n",
      "|1.5483137741088765E9|    1548369936|[1.548096415E9,1....|\n",
      "| 1.545978059971857E9|    1545266512|[1.545266414E9,0....|\n",
      "| 1.545978059971857E9|    1545266512|[1.545266414E9,0....|\n",
      "| 1.545978059971857E9|    1545266512|[1.545266414E9,0....|\n",
      "|1.5425009890438209E9|    1542840143|[1.541086767E9,0....|\n",
      "|1.5451428507458239E9|    1545189283|[1.54422644E9,0.0...|\n",
      "|1.5451428507458239E9|    1545189283|[1.54422644E9,0.0...|\n",
      "|1.5451428507458239E9|    1545189283|[1.54422644E9,0.0...|\n",
      "|1.5480891356662362E9|    1548689139|[1.547822511E9,1....|\n",
      "|1.5406988679331768E9|    1539670210|[1.5393293E9,0.0,...|\n",
      "|1.5454126699173648E9|    1545065497|[1.544562532E9,0....|\n",
      "| 1.548148423772936E9|    1548609260|[1.547400646E9,0....|\n",
      "| 1.548148423772936E9|    1548609260|[1.547400646E9,0....|\n",
      "|1.5402695866756074E9|    1539016085|[1.538789556E9,0....|\n",
      "| 1.541126270024477E9|    1545948641|[1.539867065E9,0....|\n",
      "| 1.541126270024477E9|    1545948641|[1.539867065E9,0....|\n",
      "| 1.546892139797759E9|    1547239773|[1.546351734E9,1....|\n",
      "|1.5469269051254852E9|    1546403767|[1.546394461E9,1....|\n",
      "|1.5451486795480993E9|    1544633047|[1.544233638E9,0....|\n",
      "|1.5451486795480993E9|    1544633047|[1.544233638E9,0....|\n",
      "+--------------------+--------------+--------------------+\n",
      "only showing top 20 rows\n",
      "\n",
      "Time taken to execute above cell: 132.847142seconds\n"
     ]
    }
   ],
   "source": [
    "import datetime\n",
    "timestart = datetime.datetime.now()\n",
    "\n",
    "predictNextPostTime('next_post_time')\n",
    "\n",
    "timeend = datetime.datetime.now()\n",
    "timedelta = (timeend-timestart).total_seconds() \n",
    "print(\"Time taken to execute above cell: \" + str(timedelta) + \"seconds\")"
   ]
  },
  {
   "cell_type": "markdown",
   "metadata": {},
   "source": [
    "Linear Regression, Predict score and next_post_time"
   ]
  },
  {
   "cell_type": "markdown",
   "metadata": {},
   "source": [
    "Classification, predict next_subreddit"
   ]
  },
  {
   "cell_type": "code",
   "execution_count": 5,
   "metadata": {},
   "outputs": [],
   "source": [
    "from pyspark.ml.feature import StringIndexer, IndexToString, VectorAssembler, OneHotEncoderEstimator\n",
    "from pyspark.ml.classification import RandomForestClassifier\n",
    "from pyspark.ml.evaluation import MulticlassClassificationEvaluator\n",
    "from pyspark.ml import Pipeline, Model\n",
    "\n",
    "def getTrainTest(data_df):\n",
    "    import datetime\n",
    "    timestart = datetime.datetime.now()\n",
    "\n",
    "    stages = []\n",
    "\n",
    "    from pyspark.ml.feature import Tokenizer\n",
    "\n",
    "    tokenizer = Tokenizer(inputCol = \"body\", outputCol = \"words\")\n",
    "    #wordsDataFrame = tokenizer.transform(data_df)\n",
    "\n",
    "    stages += [tokenizer]\n",
    "    \n",
    "    #convert and encode the categorical features\n",
    "    categoricalColumns = ['subreddit_type', 'current_subreddit']\n",
    "    \n",
    "    for categoricalCol in categoricalColumns:\n",
    "        stringIndexer = StringIndexer(inputCol = categoricalCol, outputCol = categoricalCol + '_idx')\n",
    "        encoder = OneHotEncoderEstimator(inputCols=[stringIndexer.getOutputCol()], outputCols=[categoricalCol + \"_class_vec\"])\n",
    "        stages += [stringIndexer, encoder]\n",
    "        \n",
    "    label_stringIdx = StringIndexer(inputCol = 'next_subreddit', outputCol = 'label')\n",
    "    stages += [label_stringIdx]\n",
    "\n",
    "    #conbine both categorical and numerical features\n",
    "    numericCols = ['current_post_time', 'score', 'archived', 'author_created_utc', 'can_gild', 'can_mod_post', 'collapsed', \n",
    "                   'gilded', 'is_submitter', 'no_follow', 'retrieved_on', 'send_replies', 'stickied', 'edited', 'controversiality']\n",
    "\n",
    "    assemblerInputs = [c + \"_class_vec\" for c in categoricalColumns] + numericCols + ['words']\n",
    "    assemblerInputs = numericCols\n",
    "    assembler = VectorAssembler(inputCols=assemblerInputs, outputCol=\"features\")\n",
    "    stages += [assembler]\n",
    "    \n",
    "    pipeline = Pipeline(stages = stages)\n",
    "    pipelineModel = pipeline.fit(data_df)\n",
    "    mdata_df = pipelineModel.transform(data_df)\n",
    "    \n",
    "    train_df, test_df = mdata_df.randomSplit([0.7, 0.3], 2020)\n",
    "\n",
    "    print(\"Number of training records: \" + str(train_df.count()))\n",
    "    print(\"Number of testing records : \" + str(test_df.count()))\n",
    "\n",
    "    timeend = datetime.datetime.now()\n",
    "    timedelta = (timeend-timestart).total_seconds() \n",
    "    print(\"Time taken to get train and test: \" + str(timedelta) + \"seconds\")\n",
    "    \n",
    "    return mdata_df, train_df, test_df"
   ]
  },
  {
   "cell_type": "code",
   "execution_count": 6,
   "metadata": {},
   "outputs": [
    {
     "name": "stdout",
     "output_type": "stream",
     "text": [
      "Number of training records: 18232247\n",
      "Number of testing records : 7812798\n",
      "Time taken to get train and test: 215.565262seconds\n"
     ]
    }
   ],
   "source": [
    "mdata_df, train_df, test_df = getTrainTest(data_df)"
   ]
  },
  {
   "cell_type": "code",
   "execution_count": 17,
   "metadata": {
    "collapsed": true,
    "jupyter": {
     "outputs_hidden": true
    }
   },
   "outputs": [
    {
     "name": "stdout",
     "output_type": "stream",
     "text": [
      "+-------------------+-----------------+--------------+-----------------+---------------+--------+------------------+--------------------+--------+------------+---------+----------------+------+------+------------+---------+------------+-----+------------+--------+--------------+--------------------+------------------+------------------------+---------------------+---------------------------+-----+--------------------+\n",
      "|             author|current_post_time|next_post_time|current_subreddit| next_subreddit|archived|author_created_utc|                body|can_gild|can_mod_post|collapsed|controversiality|edited|gilded|is_submitter|no_follow|retrieved_on|score|send_replies|stickied|subreddit_type|               words|subreddit_type_idx|subreddit_type_class_vec|current_subreddit_idx|current_subreddit_class_vec|label|            features|\n",
      "+-------------------+-----------------+--------------+-----------------+---------------+--------+------------------+--------------------+--------+------------+---------+----------------+------+------+------------+---------+------------+-----+------------+--------+--------------+--------------------+------------------+------------------------+---------------------+---------------------------+-----+--------------------+\n",
      "|----------_--------|       1539176940|    1539615978|  leagueoflegends|leagueoflegends|       0|        1479995947|If it weren't for...|       1|           0|        0|               0|     0|     0|           0|        0|  1540893395|    4|           1|       0|        public|[if, it, weren't,...|               0.0|           (2,[0],[1.0])|                 16.0|         (47503,[16],[1.0])| 19.0|(15,[0,1,3,4,10,1...|\n",
      "+-------------------+-----------------+--------------+-----------------+---------------+--------+------------------+--------------------+--------+------------+---------+----------------+------+------+------------+---------+------------+-----+------------+--------+--------------+--------------------+------------------+------------------------+---------------------+---------------------------+-----+--------------------+\n",
      "only showing top 1 row\n",
      "\n"
     ]
    }
   ],
   "source": [
    "train_df.show(1)"
   ]
  },
  {
   "cell_type": "markdown",
   "metadata": {},
   "source": [
    "Make graph with pandas"
   ]
  },
  {
   "cell_type": "code",
   "execution_count": 7,
   "metadata": {},
   "outputs": [
    {
     "name": "stderr",
     "output_type": "stream",
     "text": [
      "/usr/lib/spark/python/pyspark/sql/dataframe.py:2103: UserWarning: toPandas attempted Arrow optimization because 'spark.sql.execution.arrow.enabled' is set to true; however, failed by the reason below:\n",
      "  Unsupported type in conversion to Arrow: VectorUDT\n",
      "Attempting non-optimization as 'spark.sql.execution.arrow.fallback.enabled' is set to true.\n",
      "  warnings.warn(msg)\n"
     ]
    },
    {
     "name": "stdout",
     "output_type": "stream",
     "text": [
      "Time taken to get train and test: 143.784232seconds\n"
     ]
    }
   ],
   "source": [
    "import datetime\n",
    "timestart = datetime.datetime.now()\n",
    "    \n",
    "train_pd_df = train_df.limit(1000).toPandas()\n",
    "train_pd_df = train_pd_df[['current_post_time', 'next_post_time', 'next_subreddit', 'archived', 'author_created_utc','can_gild','can_mod_post', 'collapsed', 'controversiality', \n",
    "                          'edited', 'gilded', 'is_submitter', 'no_follow', 'retrieved_on', 'score', 'send_replies', 'stickied','subreddit_type_idx', 'current_subreddit_idx', 'label']]\n",
    "\n",
    "timeend = datetime.datetime.now()\n",
    "timedelta = (timeend-timestart).total_seconds() \n",
    "print(\"Time taken to get train and test: \" + str(timedelta) + \"seconds\")"
   ]
  },
  {
   "cell_type": "code",
   "execution_count": 8,
   "metadata": {},
   "outputs": [
    {
     "data": {
      "text/plain": [
       "<matplotlib.axes._subplots.AxesSubplot at 0x7f41f3c9a190>"
      ]
     },
     "execution_count": 8,
     "metadata": {},
     "output_type": "execute_result"
    },
    {
     "data": {
      "image/png": "[encoded data removed]",
      "text/plain": [
       "<Figure size 432x288 with 2 Axes>"
      ]
     },
     "metadata": {
      "needs_background": "light"
     },
     "output_type": "display_data"
    }
   ],
   "source": [
    "import seaborn as sns\n",
    "%matplotlib inline\n",
    "\n",
    "corr = train_pd_df.corr()\n",
    "\n",
    "sns.heatmap(corr, xticklabels=corr.columns, yticklabels=corr.columns)"
   ]
  },
  {
   "cell_type": "markdown",
   "metadata": {},
   "source": [
    "Logistic regression"
   ]
  },
  {
   "cell_type": "code",
   "execution_count": 21,
   "metadata": {},
   "outputs": [
    {
     "name": "stdout",
     "output_type": "stream",
     "text": [
      "Area Under the Curve for LogisticRegression: 0.43569148936170216\n",
      "Time taken to execute above cell: 331.153202seconds\n"
     ]
    }
   ],
   "source": [
    "import datetime\n",
    "timestart = datetime.datetime.now()\n",
    "\n",
    "from pyspark.ml.classification import LogisticRegression\n",
    "lr = LogisticRegression(featuresCol = 'features', labelCol = 'label', maxIter=25)\n",
    "lrModel = lr.fit(train_df)\n",
    "predictions = lrModel.transform(test_df)\n",
    "from pyspark.ml.evaluation import BinaryClassificationEvaluator\n",
    "evaluator = BinaryClassificationEvaluator()\n",
    "print('Area Under the Curve for LogisticRegression:', evaluator.evaluate(predictions))\n",
    "\n",
    "timeend = datetime.datetime.now()\n",
    "timedelta = (timeend-timestart).total_seconds() \n",
    "print(\"Time taken to execute above cell: \" + str(timedelta) + \"seconds\")"
   ]
  },
  {
   "cell_type": "code",
   "execution_count": 22,
   "metadata": {},
   "outputs": [],
   "source": [
    "lrModel.write().overwrite().save(\"s3://secondhandbigdata/project/models/lrModel\")"
   ]
  },
  {
   "cell_type": "markdown",
   "metadata": {},
   "source": [
    "Random forest classifier"
   ]
  },
  {
   "cell_type": "code",
   "execution_count": 9,
   "metadata": {},
   "outputs": [
    {
     "name": "stdout",
     "output_type": "stream",
     "text": [
      "Area Under the Curve for RandomForestClassifier: 0.5423082787010215\n",
      "Time taken to execute above cell: 295.300517seconds\n"
     ]
    }
   ],
   "source": [
    "import datetime\n",
    "timestart = datetime.datetime.now()\n",
    "\n",
    "from pyspark.ml.classification import RandomForestClassifier\n",
    "rf = RandomForestClassifier(featuresCol = 'features', labelCol = 'label')\n",
    "rfModel = rf.fit(train_df.limit(1000))\n",
    "predictions = rfModel.transform(test_df.limit(1000))\n",
    "from pyspark.ml.evaluation import BinaryClassificationEvaluator\n",
    "evaluator = BinaryClassificationEvaluator()\n",
    "print(\"Area Under the Curve for RandomForestClassifier: \" + str(evaluator.evaluate(predictions, {evaluator.metricName: \"areaUnderROC\"})))\n",
    "\n",
    "timeend = datetime.datetime.now()\n",
    "timedelta = (timeend-timestart).total_seconds() \n",
    "print(\"Time taken to execute above cell: \" + str(timedelta) + \"seconds\")"
   ]
  },
  {
   "cell_type": "code",
   "execution_count": null,
   "metadata": {},
   "outputs": [],
   "source": [
    "rfModel.write().overwrite().save(\"s3://secondhandbigdata/project/models/rfModel\")"
   ]
  },
  {
   "cell_type": "markdown",
   "metadata": {},
   "source": [
    "Dicision tree classifer"
   ]
  },
  {
   "cell_type": "code",
   "execution_count": 8,
   "metadata": {},
   "outputs": [
    {
     "name": "stdout",
     "output_type": "stream",
     "text": [
      "Area Under the Curve for DecisionTreeClassifier: 0.511411889596603\n",
      "Time taken to execute above cell: 1118.285272seconds\n"
     ]
    }
   ],
   "source": [
    "import datetime\n",
    "timestart = datetime.datetime.now()\n",
    "\n",
    "from pyspark.ml.classification import DecisionTreeClassifier\n",
    "dt = DecisionTreeClassifier(featuresCol = 'features', labelCol = 'label', maxDepth = 20)\n",
    "dtModel = dt.fit(train_df)\n",
    "predictions = dtModel.transform(test_df)\n",
    "from pyspark.ml.evaluation import BinaryClassificationEvaluator\n",
    "evaluator = BinaryClassificationEvaluator()\n",
    "print(\"Area Under the Curve for DecisionTreeClassifier: \" + str(evaluator.evaluate(predictions, {evaluator.metricName: \"areaUnderROC\"})))\n",
    "\n",
    "timeend = datetime.datetime.now()\n",
    "timedelta = (timeend-timestart).total_seconds() \n",
    "print(\"Time taken to execute above cell: \" + str(timedelta) + \"seconds\")"
   ]
  },
  {
   "cell_type": "code",
   "execution_count": 10,
   "metadata": {},
   "outputs": [],
   "source": [
    "dtModel.write().overwrite().save(\"s3://secondhandbigdata/project/models/dtModel\")"
   ]
  },
  {
   "cell_type": "code",
   "execution_count": 13,
   "metadata": {},
   "outputs": [],
   "source": [
    "sc.stop()\n",
    "spark.stop()"
   ]
  },
  {
   "cell_type": "code",
   "execution_count": null,
   "metadata": {},
   "outputs": [],
   "source": []
  }
 ],
 "metadata": {
  "kernelspec": {
   "display_name": "Python 3",
   "language": "python",
   "name": "python3"
  },
  "language_info": {
   "codemirror_mode": {
    "name": "ipython",
    "version": 3
   },
   "file_extension": ".py",
   "mimetype": "text/x-python",
   "name": "python",
   "nbconvert_exporter": "python",
   "pygments_lexer": "ipython3",
   "version": "3.7.6"
  }
 },
 "nbformat": 4,
 "nbformat_minor": 4
}
